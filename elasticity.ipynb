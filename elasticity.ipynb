{
 "cells": [
  {
   "cell_type": "markdown",
   "metadata": {},
   "source": [
    "# Practice Question: Elasticity"
   ]
  },
  {
   "cell_type": "code",
   "execution_count": 1,
   "metadata": {},
   "outputs": [
    {
     "data": {
      "text/html": [
       "\n",
       "            <script>\n",
       "                code_show = false;\n",
       "                function restart_run_all(){\n",
       "                    IPython.notebook.kernel.restart();\n",
       "                    setTimeout(function(){\n",
       "                        IPython.notebook.execute_all_cells();\n",
       "                    }, 10)\n",
       "                }\n",
       "            </script>\n",
       "            <button onclick=\"restart_run_all()\">Generate Question</button>\n",
       "        "
      ],
      "text/plain": [
       "<IPython.core.display.HTML object>"
      ]
     },
     "metadata": {},
     "output_type": "display_data"
    }
   ],
   "source": [
    "import random\n",
    "import sympy\n",
    "from sympy import Symbol, Eq, Mul, Rational, Derivative, Pow\n",
    "import threading\n",
    "import ipywidgets as widgets\n",
    "from IPython.display import HTML, Javascript, display\n",
    "sympy.init_printing(order='rev-lex')\n",
    "\n",
    "def initialize():\n",
    "    \"Creates a button that generates a new question\"\n",
    "    display(HTML(\n",
    "        '''\n",
    "            <script>\n",
    "                code_show = false;\n",
    "                function restart_run_all(){\n",
    "                    IPython.notebook.kernel.restart();\n",
    "                    setTimeout(function(){\n",
    "                        IPython.notebook.execute_all_cells();\n",
    "                    }, 10)\n",
    "                }\n",
    "            </script>\n",
    "            <button onclick=\"restart_run_all()\">Generate Question</button>\n",
    "        '''\n",
    "    ))\n",
    "\n",
    "initialize()"
   ]
  },
  {
   "cell_type": "code",
   "execution_count": null,
   "metadata": {},
   "outputs": [],
   "source": [
    "Q = Symbol('Q_s')\n",
    "p = Symbol('p', commutative=False)\n",
    "dQ = Symbol('dQ_s')\n",
    "dp = Symbol('dp')\n",
    "epsilon = Symbol('epsilon')\n",
    "\n",
    "A = random.randint(1, 100)\n",
    "exponent = random.randint(1, 100)"
   ]
  },
  {
   "cell_type": "markdown",
   "metadata": {},
   "source": [
    "## Question"
   ]
  },
  {
   "cell_type": "markdown",
   "metadata": {},
   "source": [
    "Let the supply function be"
   ]
  },
  {
   "cell_type": "code",
   "execution_count": null,
   "metadata": {},
   "outputs": [],
   "source": [
    "supply = A * p ** exponent\n",
    "Eq(Q, supply)"
   ]
  },
  {
   "cell_type": "markdown",
   "metadata": {},
   "source": [
    "Calculate the price elasticity of supply."
   ]
  },
  {
   "cell_type": "markdown",
   "metadata": {},
   "source": [
    "## Answer"
   ]
  },
  {
   "cell_type": "code",
   "execution_count": null,
   "metadata": {},
   "outputs": [],
   "source": [
    "#derivative = Derivative(Q, p)\n",
    "derivative = Mul(dQ, Pow(dp, -1))\n",
    "ratio_price_quantity = p / Q\n",
    "Eq(epsilon, Mul(derivative, ratio_price_quantity, evaluate=False))"
   ]
  },
  {
   "cell_type": "code",
   "execution_count": null,
   "metadata": {},
   "outputs": [],
   "source": [
    "component_derivative = exponent * p ** (exponent - 1)\n",
    "Eq(derivative, Mul(A, component_derivative, evaluate=False))"
   ]
  },
  {
   "cell_type": "code",
   "execution_count": null,
   "metadata": {},
   "outputs": [],
   "source": [
    "Eq(derivative, Mul(A, component_derivative))"
   ]
  },
  {
   "cell_type": "code",
   "execution_count": null,
   "metadata": {},
   "outputs": [],
   "source": [
    "derivative = Mul(A, component_derivative)\n",
    "numerator = Mul(derivative, p, evaluate=False)\n",
    "denominator = Pow(Q, -1, evaluate=False)\n",
    "ratio = Mul(numerator, denominator, evaluate=False)\n",
    "Eq(epsilon, ratio)"
   ]
  },
  {
   "cell_type": "code",
   "execution_count": null,
   "metadata": {},
   "outputs": [],
   "source": [
    "Eq(epsilon, ratio).doit()"
   ]
  },
  {
   "cell_type": "code",
   "execution_count": null,
   "metadata": {},
   "outputs": [],
   "source": [
    "p = Symbol('p')  # Need p in denomitor\n",
    "\n",
    "component_derivative = exponent * p ** (exponent - 1)\n",
    "derivative = Mul(A, component_derivative)\n",
    "numerator = Mul(derivative, p)\n",
    "denominator = Pow(A * p ** exponent, -1, evaluate=False)\n",
    "ratio = Mul(numerator, denominator, evaluate=False)\n",
    "\n",
    "\n",
    "Eq(epsilon, ratio)"
   ]
  },
  {
   "cell_type": "code",
   "execution_count": null,
   "metadata": {},
   "outputs": [],
   "source": [
    "Eq(epsilon, exponent, evaluate=False)"
   ]
  }
 ],
 "metadata": {
  "kernelspec": {
   "display_name": "Python 3",
   "language": "python",
   "name": "python3"
  },
  "language_info": {
   "codemirror_mode": {
    "name": "ipython",
    "version": 3
   },
   "file_extension": ".py",
   "mimetype": "text/x-python",
   "name": "python",
   "nbconvert_exporter": "python",
   "pygments_lexer": "ipython3",
   "version": "3.8.3"
  }
 },
 "nbformat": 4,
 "nbformat_minor": 4
}
