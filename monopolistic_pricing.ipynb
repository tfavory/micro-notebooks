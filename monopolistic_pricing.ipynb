{
 "cells": [
  {
   "cell_type": "markdown",
   "metadata": {},
   "source": [
    "# Practice Question: Monopolistic Pricing"
   ]
  },
  {
   "cell_type": "code",
   "execution_count": 1,
   "metadata": {},
   "outputs": [
    {
     "data": {
      "text/html": [
       "\n",
       "            <script>\n",
       "                code_show = false;\n",
       "                function restart_run_all(){\n",
       "                    IPython.notebook.kernel.restart();\n",
       "                    setTimeout(function(){\n",
       "                        IPython.notebook.execute_all_cells();\n",
       "                    }, 10)\n",
       "                }\n",
       "            </script>\n",
       "            <button onclick=\"restart_run_all()\">Generate Question</button>\n",
       "        "
      ],
      "text/plain": [
       "<IPython.core.display.HTML object>"
      ]
     },
     "metadata": {},
     "output_type": "display_data"
    }
   ],
   "source": [
    "import random\n",
    "import sympy\n",
    "from sympy import Symbol, Eq, Add, Mul, Derivative, simplify, UnevaluatedExpr, S, srepr, Pow, sqrt\n",
    "import threading\n",
    "import ipywidgets as widgets\n",
    "from IPython.display import HTML, Javascript, display\n",
    "from IPython.display import Markdown as md\n",
    "sympy.init_printing(order='rev-lex')\n",
    "\n",
    "def initialize():\n",
    "    \"Creates a button that generates a new question\"\n",
    "    display(HTML(\n",
    "        '''\n",
    "            <script>\n",
    "                code_show = false;\n",
    "                function restart_run_all(){\n",
    "                    IPython.notebook.kernel.restart();\n",
    "                    setTimeout(function(){\n",
    "                        IPython.notebook.execute_all_cells();\n",
    "                    }, 10)\n",
    "                }\n",
    "            </script>\n",
    "            <button onclick=\"restart_run_all()\">Generate Question</button>\n",
    "        '''\n",
    "    ))\n",
    "\n",
    "\n",
    "P = Symbol('P')\n",
    "Q = Symbol('Q')\n",
    "C = Symbol('C')\n",
    "MC = Symbol('MC')\n",
    "MR = Symbol('MR')\n",
    "initialize()"
   ]
  },
  {
   "cell_type": "code",
   "execution_count": 2,
   "metadata": {},
   "outputs": [],
   "source": [
    "b = random.randint(1, 10)\n",
    "a_list = [i * b for i in range(1, 100)]\n",
    "choice_a_list = random.choice(a_list)\n",
    "a = choice_a_list * 2\n",
    "inverse_demand = a - b * Q\n",
    "\n",
    "index_a = a_list.index(choice_a_list)\n",
    "c_list = a_list[: index_a + 1]\n",
    "c = random.choice(c_list) * 2\n",
    "d = random.randint(500, 2000)\n",
    "total_cost = c * Q + d"
   ]
  },
  {
   "cell_type": "code",
   "execution_count": 3,
   "metadata": {},
   "outputs": [
    {
     "data": {
      "text/markdown": [
       "## Question\n",
       "   A small island can only accomodate one airline to fly in and out: that airline has a monopoly.\n",
       "   \n",
       "   Passengers have an inverse demand function P = 1660 - 10Q and the airline's cost function is C = 1500Q + 1648.\n",
       "   \n",
       "   What are the price and quantity that maximize the airline's profit?"
      ],
      "text/plain": [
       "<IPython.core.display.Markdown object>"
      ]
     },
     "execution_count": 3,
     "metadata": {},
     "output_type": "execute_result"
    }
   ],
   "source": [
    "md(\"\"\"## Question\n",
    "   A small island can only accomodate one airline to fly in and out: that airline has a monopoly.\n",
    "   \n",
    "   Passengers have an inverse demand function P = {a} - {b}Q and the airline's cost function is C = {c}Q + {d}.\n",
    "   \n",
    "   What are the price and quantity that maximize the airline's profit?\"\"\".format(a=a, b=b, c=c, d=d))"
   ]
  },
  {
   "cell_type": "markdown",
   "metadata": {},
   "source": [
    "## Answer"
   ]
  },
  {
   "cell_type": "markdown",
   "metadata": {},
   "source": [
    "### Step 1: Find the Marginal Revenue"
   ]
  },
  {
   "cell_type": "code",
   "execution_count": 4,
   "metadata": {},
   "outputs": [
    {
     "data": {
      "text/markdown": [
       "MR = 1660 - 2 x 10Q = 1660 - 20 Q"
      ],
      "text/plain": [
       "<IPython.core.display.Markdown object>"
      ]
     },
     "execution_count": 4,
     "metadata": {},
     "output_type": "execute_result"
    }
   ],
   "source": [
    "md(\"\"\"MR = {a} - 2 x {b}Q = {a} - {twob} Q\"\"\".format(a=a, b=b,twob=2*b))"
   ]
  },
  {
   "cell_type": "markdown",
   "metadata": {},
   "source": [
    "### Step 2: Find the Marginal Cost"
   ]
  },
  {
   "cell_type": "code",
   "execution_count": 5,
   "metadata": {},
   "outputs": [
    {
     "data": {
      "text/markdown": [
       "MC = 1500"
      ],
      "text/plain": [
       "<IPython.core.display.Markdown object>"
      ]
     },
     "execution_count": 5,
     "metadata": {},
     "output_type": "execute_result"
    }
   ],
   "source": [
    "md(\"\"\"MC = {c}\"\"\".format(c=c))"
   ]
  },
  {
   "cell_type": "markdown",
   "metadata": {},
   "source": [
    "### Step 3: Equate Marginal Revenue and Marginal Cost"
   ]
  },
  {
   "cell_type": "code",
   "execution_count": 6,
   "metadata": {},
   "outputs": [
    {
     "data": {
      "text/markdown": [
       "MR = MC"
      ],
      "text/plain": [
       "<IPython.core.display.Markdown object>"
      ]
     },
     "execution_count": 6,
     "metadata": {},
     "output_type": "execute_result"
    }
   ],
   "source": [
    "md(\"\"\"MR = MC\"\"\".format(a=a, b=b, twob=2*b))"
   ]
  },
  {
   "cell_type": "code",
   "execution_count": 7,
   "metadata": {},
   "outputs": [
    {
     "data": {
      "text/markdown": [
       "1660 - 20Q = 1500"
      ],
      "text/plain": [
       "<IPython.core.display.Markdown object>"
      ]
     },
     "execution_count": 7,
     "metadata": {},
     "output_type": "execute_result"
    }
   ],
   "source": [
    "md(\"\"\"{a} - {twob}Q = {c}\"\"\".format(a=a, twob=2*b, c=c))"
   ]
  },
  {
   "cell_type": "code",
   "execution_count": 8,
   "metadata": {},
   "outputs": [
    {
     "data": {
      "text/markdown": [
       "1660 - 1500 = 20Q"
      ],
      "text/plain": [
       "<IPython.core.display.Markdown object>"
      ]
     },
     "execution_count": 8,
     "metadata": {},
     "output_type": "execute_result"
    }
   ],
   "source": [
    "md(\"\"\"{a} - {c} = {twob}Q\"\"\".format(a=a, twob=2*b, c=c))"
   ]
  },
  {
   "cell_type": "code",
   "execution_count": 9,
   "metadata": {},
   "outputs": [
    {
     "data": {
      "text/markdown": [
       "160 = 20Q"
      ],
      "text/plain": [
       "<IPython.core.display.Markdown object>"
      ]
     },
     "execution_count": 9,
     "metadata": {},
     "output_type": "execute_result"
    }
   ],
   "source": [
    "md(\"\"\"{a_takes_c} = {twob}Q\"\"\".format(a_takes_c=a-c, twob=2*b, c=c))"
   ]
  },
  {
   "cell_type": "code",
   "execution_count": 10,
   "metadata": {},
   "outputs": [
    {
     "data": {
      "text/markdown": [
       "Q = 8"
      ],
      "text/plain": [
       "<IPython.core.display.Markdown object>"
      ]
     },
     "execution_count": 10,
     "metadata": {},
     "output_type": "execute_result"
    }
   ],
   "source": [
    "final_Q = (a - c) / (2 * b)\n",
    "md(\"\"\"Q = {final_Q}\"\"\".format(final_Q=\"%.0f\"%final_Q))"
   ]
  },
  {
   "cell_type": "code",
   "execution_count": 11,
   "metadata": {},
   "outputs": [
    {
     "data": {
      "text/markdown": [
       "So the airline will have 8 passengers."
      ],
      "text/plain": [
       "<IPython.core.display.Markdown object>"
      ]
     },
     "execution_count": 11,
     "metadata": {},
     "output_type": "execute_result"
    }
   ],
   "source": [
    "md(\"\"\"So the airline will have {q} passengers.\"\"\".format(q=\"%.0f\" % final_Q))"
   ]
  },
  {
   "cell_type": "markdown",
   "metadata": {},
   "source": [
    "### Step 4: Find the price"
   ]
  },
  {
   "cell_type": "code",
   "execution_count": 12,
   "metadata": {},
   "outputs": [
    {
     "data": {
      "text/markdown": [
       "P = 1660 - 10 Q = 1660 - 10 x 8 = 1580"
      ],
      "text/plain": [
       "<IPython.core.display.Markdown object>"
      ]
     },
     "execution_count": 12,
     "metadata": {},
     "output_type": "execute_result"
    }
   ],
   "source": [
    "final_P = (a + c) / 2\n",
    "md(\"\"\"P = {a} - {b} Q = {a} - {b} x {final_Q} = {final_P}\"\"\".format(a=a, b=b, final_Q=\"%.0f\"%final_Q, final_P=\"%.0f\"%final_P))"
   ]
  },
  {
   "cell_type": "code",
   "execution_count": 13,
   "metadata": {},
   "outputs": [
    {
     "data": {
      "text/markdown": [
       "And the airline charges \\$1580."
      ],
      "text/plain": [
       "<IPython.core.display.Markdown object>"
      ]
     },
     "execution_count": 13,
     "metadata": {},
     "output_type": "execute_result"
    }
   ],
   "source": [
    "md(\"\"\"And the airline charges \\${final_P}.\"\"\".format(final_P=\"%.0f\"%final_P))"
   ]
  },
  {
   "cell_type": "code",
   "execution_count": null,
   "metadata": {},
   "outputs": [],
   "source": []
  }
 ],
 "metadata": {
  "kernelspec": {
   "display_name": "Python 3",
   "language": "python",
   "name": "python3"
  },
  "language_info": {
   "codemirror_mode": {
    "name": "ipython",
    "version": 3
   },
   "file_extension": ".py",
   "mimetype": "text/x-python",
   "name": "python",
   "nbconvert_exporter": "python",
   "pygments_lexer": "ipython3",
   "version": "3.8.3"
  }
 },
 "nbformat": 4,
 "nbformat_minor": 4
}
