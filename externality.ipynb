{
 "cells": [
  {
   "cell_type": "markdown",
   "metadata": {},
   "source": [
    "# Practice question: Externality"
   ]
  },
  {
   "cell_type": "code",
   "execution_count": 1,
   "metadata": {
    "hide_input": false,
    "init_cell": true
   },
   "outputs": [
    {
     "data": {
      "text/html": [
       "\n",
       "            <script>\n",
       "                code_show = false;\n",
       "                function restart_run_all(){\n",
       "                    IPython.notebook.kernel.restart();\n",
       "                    setTimeout(function(){\n",
       "                        IPython.notebook.execute_all_cells();\n",
       "                    }, 10)\n",
       "                }\n",
       "            </script>\n",
       "            <button onclick=\"restart_run_all()\">Generate Question</button>\n",
       "        "
      ],
      "text/plain": [
       "<IPython.core.display.HTML object>"
      ]
     },
     "metadata": {},
     "output_type": "display_data"
    }
   ],
   "source": [
    "import random\n",
    "import sympy\n",
    "from sympy import Symbol, Eq, Add, Mul, Derivative, simplify, UnevaluatedExpr, S, srepr, Pow, sqrt\n",
    "import threading\n",
    "import ipywidgets as widgets\n",
    "from IPython.display import HTML, Javascript, display\n",
    "sympy.init_printing(order='rev-lex')\n",
    "\n",
    "def initialize():\n",
    "    \"Creates a button that generates a new question\"\n",
    "    display(HTML(\n",
    "        '''\n",
    "            <script>\n",
    "                code_show = false;\n",
    "                function restart_run_all(){\n",
    "                    IPython.notebook.kernel.restart();\n",
    "                    setTimeout(function(){\n",
    "                        IPython.notebook.execute_all_cells();\n",
    "                    }, 10)\n",
    "                }\n",
    "            </script>\n",
    "            <button onclick=\"restart_run_all()\">Generate Question</button>\n",
    "        '''\n",
    "    ))\n",
    "\n",
    "\n",
    "v = Symbol('v')\n",
    "w = Symbol('w')\n",
    "Y_1 = Symbol('Y_1')\n",
    "Y_2 = Symbol('Y_2')\n",
    "one = Symbol('1')\n",
    "\n",
    "p_1 = Symbol('p_1')\n",
    "p_2 = Symbol('p_2')\n",
    "\n",
    "c_1 = Symbol('c_1')\n",
    "c_2 = Symbol('c_2')\n",
    "\n",
    "pi_1 = Symbol('pi_1')\n",
    "pi_2 = Symbol('pi_2')\n",
    "\n",
    "d = Symbol('d')\n",
    "dv = Symbol('d v')\n",
    "dw = Symbol('d w')\n",
    "dpi_1 = Symbol('d pi_1')\n",
    "dpi_2 = Symbol('d pi_2')\n",
    "\n",
    "\n",
    "initialize()"
   ]
  },
  {
   "cell_type": "code",
   "execution_count": 2,
   "metadata": {
    "hide_input": false
   },
   "outputs": [],
   "source": [
    "a = random.randint(2, 10)\n",
    "b = random.randint(2, 10)\n",
    "p1 = random.randint(2, 10)\n",
    "p2 = random.randint(2, 10)\n",
    "c1 = random.randint(1, p1 - 1)\n",
    "c2 = random.randint(1, p2 - 1)"
   ]
  },
  {
   "cell_type": "markdown",
   "metadata": {
    "hide_input": true
   },
   "source": [
    "# Question\n",
    "\n",
    "A shisha bar (Firm 1) has opened just below a gym (Firm 2). \n",
    "   \n",
    "The shisha bar produces smoke $Y_1$ that is a an economic good for its consumers. The quantity of smoke is given by"
   ]
  },
  {
   "cell_type": "code",
   "execution_count": 3,
   "metadata": {},
   "outputs": [
    {
     "data": {
      "image/png": "[encoded data removed]",
      "text/latex": [
       "$\\displaystyle Y_{1} = v^{\\frac{1}{9}}$"
      ],
      "text/plain": [
       "      1\n",
       "      ─\n",
       "      9\n",
       "Y₁ = v "
      ]
     },
     "execution_count": 3,
     "metadata": {},
     "output_type": "execute_result"
    }
   ],
   "source": [
    "Y1 = v**UnevaluatedExpr(one / a)\n",
    "Eq(Y_1, Y1)"
   ]
  },
  {
   "cell_type": "markdown",
   "metadata": {},
   "source": [
    "where $v$ corresponds to some input (including for example charcoal, tobacco and labor). A unit of input costs"
   ]
  },
  {
   "cell_type": "code",
   "execution_count": 4,
   "metadata": {},
   "outputs": [
    {
     "data": {
      "image/png": "[encoded data removed]",
      "text/latex": [
       "$\\displaystyle c_{1} = 2$"
      ],
      "text/plain": [
       "c₁ = 2"
      ]
     },
     "execution_count": 4,
     "metadata": {},
     "output_type": "execute_result"
    }
   ],
   "source": [
    "Eq(c_1, c1)"
   ]
  },
  {
   "cell_type": "markdown",
   "metadata": {},
   "source": [
    "The shisha bar charges its consumers"
   ]
  },
  {
   "cell_type": "code",
   "execution_count": 5,
   "metadata": {
    "hide_input": false,
    "scrolled": true
   },
   "outputs": [
    {
     "data": {
      "image/png": "[encoded data removed]",
      "text/latex": [
       "$\\displaystyle p_{1} = 3$"
      ],
      "text/plain": [
       "p₁ = 3"
      ]
     },
     "execution_count": 5,
     "metadata": {},
     "output_type": "execute_result"
    }
   ],
   "source": [
    "Eq(p_1, p1)"
   ]
  },
  {
   "cell_type": "markdown",
   "metadata": {},
   "source": [
    "per unit of smoke $Y_1$"
   ]
  },
  {
   "cell_type": "markdown",
   "metadata": {},
   "source": [
    "\\\n",
    "The smoke is a negative externality to those going to the gym upstairs. They cannot grow mucle $Y_2$ as efficiently as before."
   ]
  },
  {
   "cell_type": "code",
   "execution_count": 6,
   "metadata": {},
   "outputs": [
    {
     "data": {
      "image/png": "[encoded data removed]",
      "text/latex": [
       "$\\displaystyle Y_{2} = \\left(\\frac{w}{Y_{1} + 1}\\right)^{\\frac{1}{2}}$"
      ],
      "text/plain": [
       "             1\n",
       "             ─\n",
       "             2\n",
       "     ⎛  w   ⎞ \n",
       "Y₂ = ⎜──────⎟ \n",
       "     ⎝1 + Y₁⎠ "
      ]
     },
     "execution_count": 6,
     "metadata": {},
     "output_type": "execute_result"
    }
   ],
   "source": [
    "Y2 = (w / (1 + Y_1))**UnevaluatedExpr(one / b)\n",
    "Eq(Y_2, Y2)"
   ]
  },
  {
   "cell_type": "markdown",
   "metadata": {},
   "source": [
    "where $w$ denotes some input in the production of $Y_2$. A unit of $w$ cost the gym"
   ]
  },
  {
   "cell_type": "code",
   "execution_count": 7,
   "metadata": {},
   "outputs": [
    {
     "data": {
      "image/png": "[encoded data removed]",
      "text/latex": [
       "$\\displaystyle c_{2} = 1$"
      ],
      "text/plain": [
       "c₂ = 1"
      ]
     },
     "execution_count": 7,
     "metadata": {},
     "output_type": "execute_result"
    }
   ],
   "source": [
    "Eq(c_2, c2)"
   ]
  },
  {
   "cell_type": "markdown",
   "metadata": {},
   "source": [
    "Gym members are willing to pay"
   ]
  },
  {
   "cell_type": "code",
   "execution_count": 8,
   "metadata": {},
   "outputs": [
    {
     "data": {
      "image/png": "[encoded data removed]",
      "text/latex": [
       "$\\displaystyle p_{2} = 3$"
      ],
      "text/plain": [
       "p₂ = 3"
      ]
     },
     "execution_count": 8,
     "metadata": {},
     "output_type": "execute_result"
    }
   ],
   "source": [
    "Eq(p_2, p2)"
   ]
  },
  {
   "cell_type": "markdown",
   "metadata": {},
   "source": [
    "per unit of muscle $Y_2$."
   ]
  },
  {
   "cell_type": "markdown",
   "metadata": {},
   "source": [
    "\\\n",
    "Your goal is to measure the loss that the gym incurs due to the externality:\n",
    "  1. Find the shisha bar's optimal production of smoke.\n",
    "  2. Find the gym's profit in presence of the externality.\n",
    "  3. Find the gym's profit in absence of the externality.\n",
    "  4. Compare."
   ]
  },
  {
   "cell_type": "markdown",
   "metadata": {},
   "source": [
    "# Answer"
   ]
  },
  {
   "cell_type": "markdown",
   "metadata": {},
   "source": [
    "## 1. Optimal $Y_1$\n",
    "\n",
    "The shisha bar maximizes"
   ]
  },
  {
   "cell_type": "code",
   "execution_count": 9,
   "metadata": {},
   "outputs": [
    {
     "data": {
      "image/png": "[encoded data removed]",
      "text/latex": [
       "$\\displaystyle \\pi_{1} = Y_{1} p_{1} - c_{1} v$"
      ],
      "text/plain": [
       "π₁ = -c₁⋅v + Y₁⋅p₁"
      ]
     },
     "execution_count": 9,
     "metadata": {},
     "output_type": "execute_result"
    }
   ],
   "source": [
    "Eq(pi_1, p_1 * Y_1 - c_1 * v)"
   ]
  },
  {
   "cell_type": "code",
   "execution_count": 10,
   "metadata": {},
   "outputs": [
    {
     "data": {
      "image/png": "[encoded data removed]",
      "text/latex": [
       "$\\displaystyle \\pi_{1} = - 2 v + 3 v^{\\frac{1}{9}}$"
      ],
      "text/plain": [
       "        1      \n",
       "        ─      \n",
       "        9      \n",
       "π₁ = 3⋅v  - 2⋅v"
      ]
     },
     "execution_count": 10,
     "metadata": {},
     "output_type": "execute_result"
    }
   ],
   "source": [
    "Eq(pi_1, p1 * Y1 - c1 * v)"
   ]
  },
  {
   "cell_type": "markdown",
   "metadata": {},
   "source": [
    "The first order condition give"
   ]
  },
  {
   "cell_type": "code",
   "execution_count": 11,
   "metadata": {},
   "outputs": [
    {
     "data": {
      "image/png": "[encoded data removed]",
      "text/latex": [
       "$\\displaystyle \\frac{d \\pi_{1}}{d v} = 0$"
      ],
      "text/plain": [
       "d⋅π₁    \n",
       "──── = 0\n",
       "d v     "
      ]
     },
     "execution_count": 11,
     "metadata": {},
     "output_type": "execute_result"
    }
   ],
   "source": [
    "Eq(d*pi_1 / dv, 0)"
   ]
  },
  {
   "cell_type": "code",
   "execution_count": 12,
   "metadata": {},
   "outputs": [
    {
     "data": {
      "image/png": "[encoded data removed]",
      "text/latex": [
       "$\\displaystyle -2 + 3 \\frac{v^{\\frac{1}{9} - 1}}{9} = 0$"
      ],
      "text/plain": [
       "        1        \n",
       "   -1 + ─        \n",
       "        9        \n",
       "  v              \n",
       "3⋅─────── - 2 = 0\n",
       "     9           "
      ]
     },
     "execution_count": 12,
     "metadata": {},
     "output_type": "execute_result"
    }
   ],
   "source": [
    "dY1 = UnevaluatedExpr(v**((one - a) / a) / a)\n",
    "Eq(p1 * dY1 - c1, 0)"
   ]
  },
  {
   "cell_type": "code",
   "execution_count": 13,
   "metadata": {},
   "outputs": [
    {
     "data": {
      "image/png": "[encoded data removed]",
      "text/latex": [
       "$\\displaystyle \\frac{1}{3 v^{0.888888888888889}} = 2$"
      ],
      "text/plain": [
       " -0.888888888888889    \n",
       "v                      \n",
       "─────────────────── = 2\n",
       "         3             "
      ]
     },
     "execution_count": 13,
     "metadata": {},
     "output_type": "execute_result"
    }
   ],
   "source": [
    "dY1 = v**(-(a-1) / a) / a\n",
    "Eq(p1 * dY1, c1)"
   ]
  },
  {
   "cell_type": "code",
   "execution_count": 14,
   "metadata": {},
   "outputs": [
    {
     "data": {
      "image/png": "[encoded data removed]",
      "text/latex": [
       "$\\displaystyle v^{0.888888888888889} = 0.166666666666667$"
      ],
      "text/plain": [
       " 0.888888888888889                    \n",
       "v                  = 0.166666666666667"
      ]
     },
     "execution_count": 14,
     "metadata": {},
     "output_type": "execute_result"
    }
   ],
   "source": [
    "dY1 = v**((a-1) / a)\n",
    "Eq(dY1, p1 / c1 / a)"
   ]
  },
  {
   "cell_type": "markdown",
   "metadata": {},
   "source": [
    "The optimal input $v$ is"
   ]
  },
  {
   "cell_type": "code",
   "execution_count": 15,
   "metadata": {},
   "outputs": [
    {
     "data": {
      "image/png": "[encoded data removed]",
      "text/latex": [
       "$\\displaystyle v = 0.133223194536073$"
      ],
      "text/plain": [
       "v = 0.133223194536073"
      ]
     },
     "execution_count": 15,
     "metadata": {},
     "output_type": "execute_result"
    }
   ],
   "source": [
    "res=(p1 / c1 / a)**(a / (a-1))\n",
    "Eq(v, res)"
   ]
  },
  {
   "cell_type": "markdown",
   "metadata": {},
   "source": [
    "With"
   ]
  },
  {
   "cell_type": "code",
   "execution_count": 16,
   "metadata": {},
   "outputs": [
    {
     "data": {
      "image/png": "[encoded data removed]",
      "text/latex": [
       "$\\displaystyle Y_{1} = v^{\\frac{1}{9}}$"
      ],
      "text/plain": [
       "      1\n",
       "      ─\n",
       "      9\n",
       "Y₁ = v "
      ]
     },
     "execution_count": 16,
     "metadata": {},
     "output_type": "execute_result"
    }
   ],
   "source": [
    "Eq(Y_1, Y1)"
   ]
  },
  {
   "cell_type": "markdown",
   "metadata": {},
   "source": [
    "the amount of smoke the shisha bar produces is"
   ]
  },
  {
   "cell_type": "code",
   "execution_count": 17,
   "metadata": {},
   "outputs": [
    {
     "data": {
      "image/png": "[encoded data removed]",
      "text/latex": [
       "$\\displaystyle Y_{1} = 0.79933916721644$"
      ],
      "text/plain": [
       "Y₁ = 0.79933916721644"
      ]
     },
     "execution_count": 17,
     "metadata": {},
     "output_type": "execute_result"
    }
   ],
   "source": [
    "Y1_res = res**(1/a)\n",
    "Eq(Y_1, Y1_res)"
   ]
  },
  {
   "cell_type": "markdown",
   "metadata": {},
   "source": [
    "## 2. Gym's profit under externality\n",
    "The gym maximizes"
   ]
  },
  {
   "cell_type": "code",
   "execution_count": 18,
   "metadata": {},
   "outputs": [
    {
     "data": {
      "image/png": "[encoded data removed]",
      "text/latex": [
       "$\\displaystyle \\pi_{2} = Y_{2} p_{2} - c_{2} w$"
      ],
      "text/plain": [
       "π₂ = -c₂⋅w + Y₂⋅p₂"
      ]
     },
     "execution_count": 18,
     "metadata": {},
     "output_type": "execute_result"
    }
   ],
   "source": [
    "Eq(pi_2, p_2 * Y_2 - c_2 * w)"
   ]
  },
  {
   "cell_type": "code",
   "execution_count": 19,
   "metadata": {},
   "outputs": [
    {
     "data": {
      "image/png": "[encoded data removed]",
      "text/latex": [
       "$\\displaystyle \\pi_{2} = - w + 3 \\left(\\frac{w}{Y_{1} + 1}\\right)^{\\frac{1}{2}}$"
      ],
      "text/plain": [
       "               1    \n",
       "               ─    \n",
       "               2    \n",
       "       ⎛  w   ⎞     \n",
       "π₂ = 3⋅⎜──────⎟  - w\n",
       "       ⎝1 + Y₁⎠     "
      ]
     },
     "execution_count": 19,
     "metadata": {},
     "output_type": "execute_result"
    }
   ],
   "source": [
    "Eq(pi_2, p2 * Y2 - c2 * w)"
   ]
  },
  {
   "cell_type": "code",
   "execution_count": 20,
   "metadata": {},
   "outputs": [
    {
     "data": {
      "image/png": "[encoded data removed]",
      "text/latex": [
       "$\\displaystyle \\pi_{2} = - w + 3 \\left(0.55575959119869 w\\right)^{\\frac{1}{2}}$"
      ],
      "text/plain": [
       "                           1    \n",
       "                           ─    \n",
       "                           2    \n",
       "π₂ = 3⋅(0.55575959119869⋅w)  - w"
      ]
     },
     "execution_count": 20,
     "metadata": {},
     "output_type": "execute_result"
    }
   ],
   "source": [
    "Y2 = (w / (1 + Y1_res))**UnevaluatedExpr(one / b)\n",
    "Eq(pi_2, p2 * Y2 - c2 * w)"
   ]
  },
  {
   "cell_type": "markdown",
   "metadata": {},
   "source": [
    "The first order condition gives"
   ]
  },
  {
   "cell_type": "code",
   "execution_count": 21,
   "metadata": {},
   "outputs": [
    {
     "data": {
      "image/png": "[encoded data removed]",
      "text/latex": [
       "$\\displaystyle \\frac{d \\pi_{2}}{d w} = 0$"
      ],
      "text/plain": [
       "d⋅π₂    \n",
       "──── = 0\n",
       "d w     "
      ]
     },
     "execution_count": 21,
     "metadata": {},
     "output_type": "execute_result"
    }
   ],
   "source": [
    "Eq(d*pi_2 / dw, 0)"
   ]
  },
  {
   "cell_type": "code",
   "execution_count": 22,
   "metadata": {},
   "outputs": [
    {
     "data": {
      "image/png": "[encoded data removed]",
      "text/latex": [
       "$\\displaystyle -1 + 3 \\frac{\\left(0.55575959119869 w\\right)^{\\frac{1}{2} - 1}}{2} = 0$"
      ],
      "text/plain": [
       "                           1        \n",
       "                      -1 + ─        \n",
       "                           2        \n",
       "  (0.55575959119869⋅w)              \n",
       "3⋅────────────────────────── - 1 = 0\n",
       "              2                     "
      ]
     },
     "execution_count": 22,
     "metadata": {},
     "output_type": "execute_result"
    }
   ],
   "source": [
    "dY2 = UnevaluatedExpr((w / (1 + Y1_res))**((one - b) / b) / b)\n",
    "Eq(p2 * dY2 - c2, 0)"
   ]
  },
  {
   "cell_type": "code",
   "execution_count": 23,
   "metadata": {},
   "outputs": [
    {
     "data": {
      "image/png": "[encoded data removed]",
      "text/latex": [
       "$\\displaystyle \\frac{1.11823927680844}{w^{0.5}} - 1 = 0$"
      ],
      "text/plain": [
       "                       -0.5    \n",
       "-1 + 1.11823927680844⋅w     = 0"
      ]
     },
     "execution_count": 23,
     "metadata": {},
     "output_type": "execute_result"
    }
   ],
   "source": [
    "mul = 1 / b\n",
    "mul = mul / ((1 + Y1_res)**(1/b))\n",
    "dY2 = w**((1 - b) / b) * mul\n",
    "Eq(p2 * dY2 - c2, 0)"
   ]
  },
  {
   "cell_type": "code",
   "execution_count": 24,
   "metadata": {},
   "outputs": [
    {
     "data": {
      "image/png": "[encoded data removed]",
      "text/latex": [
       "$\\displaystyle w^{-0.5} = 0.894262990702757$"
      ],
      "text/plain": [
       " -0.5                    \n",
       "w     = 0.894262990702757"
      ]
     },
     "execution_count": 24,
     "metadata": {},
     "output_type": "execute_result"
    }
   ],
   "source": [
    "w_star = c2 / mul /p2\n",
    "Eq(w**((1 - b) / b), w_star)"
   ]
  },
  {
   "cell_type": "code",
   "execution_count": 25,
   "metadata": {},
   "outputs": [
    {
     "data": {
      "image/png": "[encoded data removed]",
      "text/latex": [
       "$\\displaystyle w = 1.25045908019705$"
      ],
      "text/plain": [
       "w = 1.25045908019705"
      ]
     },
     "execution_count": 25,
     "metadata": {},
     "output_type": "execute_result"
    }
   ],
   "source": [
    "w_star = w_star**(b / (1 - b))\n",
    "Eq(w, w_star)"
   ]
  },
  {
   "cell_type": "markdown",
   "metadata": {},
   "source": [
    "Recall the gym's profit is"
   ]
  },
  {
   "cell_type": "code",
   "execution_count": 26,
   "metadata": {},
   "outputs": [
    {
     "data": {
      "image/png": "[encoded data removed]",
      "text/latex": [
       "$\\displaystyle \\pi_{2} = - w + 3 \\left(0.55575959119869 w\\right)^{\\frac{1}{2}}$"
      ],
      "text/plain": [
       "                           1    \n",
       "                           ─    \n",
       "                           2    \n",
       "π₂ = 3⋅(0.55575959119869⋅w)  - w"
      ]
     },
     "execution_count": 26,
     "metadata": {},
     "output_type": "execute_result"
    }
   ],
   "source": [
    "Y2 = (w / (1 + Y1_res))**UnevaluatedExpr(one / b)\n",
    "Eq(pi_2, p2 * Y2 - c2 * w)"
   ]
  },
  {
   "cell_type": "markdown",
   "metadata": {},
   "source": [
    "So"
   ]
  },
  {
   "cell_type": "code",
   "execution_count": 27,
   "metadata": {},
   "outputs": [
    {
     "data": {
      "image/png": "[encoded data removed]",
      "text/latex": [
       "$\\displaystyle \\pi_{2} = -1.25045908019705 + 3 \\cdot 0.694954627221004^{\\frac{1}{2}}$"
      ],
      "text/plain": [
       "                        1                   \n",
       "                        ─                   \n",
       "                        2                   \n",
       "π₂ = 3⋅0.694954627221004  - 1.25045908019705"
      ]
     },
     "execution_count": 27,
     "metadata": {},
     "output_type": "execute_result"
    }
   ],
   "source": [
    "Y2 = (w_star / (1 + Y1_res))**UnevaluatedExpr(one / b)\n",
    "Eq(pi_2, p2 * Y2 - c2 * w_star)"
   ]
  },
  {
   "cell_type": "code",
   "execution_count": 28,
   "metadata": {},
   "outputs": [
    {
     "data": {
      "image/png": "[encoded data removed]",
      "text/latex": [
       "$\\displaystyle \\pi_{2} = 1.25045908019705$"
      ],
      "text/plain": [
       "π₂ = 1.25045908019705"
      ]
     },
     "execution_count": 28,
     "metadata": {},
     "output_type": "execute_result"
    }
   ],
   "source": [
    "Y2 = (w_star / (1 + Y1_res))**(1 / b)\n",
    "profit1 = p2 * Y2 - c2 * w_star\n",
    "Eq(pi_2, profit1)"
   ]
  },
  {
   "cell_type": "markdown",
   "metadata": {},
   "source": [
    "## Step 3: Gym's profit without externality\n",
    "The shisha is not productin smoke:"
   ]
  },
  {
   "cell_type": "code",
   "execution_count": 29,
   "metadata": {},
   "outputs": [
    {
     "data": {
      "image/png": "[encoded data removed]",
      "text/latex": [
       "$\\displaystyle Y_{1} = 0$"
      ],
      "text/plain": [
       "Y₁ = 0"
      ]
     },
     "execution_count": 29,
     "metadata": {},
     "output_type": "execute_result"
    }
   ],
   "source": [
    "Y1 = 0\n",
    "Eq(Y_1, Y1)"
   ]
  },
  {
   "cell_type": "code",
   "execution_count": 30,
   "metadata": {},
   "outputs": [
    {
     "data": {
      "image/png": "[encoded data removed]",
      "text/latex": [
       "$\\displaystyle w^{\\frac{1}{2}}$"
      ],
      "text/plain": [
       " 1\n",
       " ─\n",
       " 2\n",
       "w "
      ]
     },
     "execution_count": 30,
     "metadata": {},
     "output_type": "execute_result"
    }
   ],
   "source": [
    "Y_2 = w**UnevaluatedExpr(one / b)\n",
    "Y_2"
   ]
  },
  {
   "cell_type": "markdown",
   "metadata": {},
   "source": [
    "The gym's profit is"
   ]
  },
  {
   "cell_type": "code",
   "execution_count": 31,
   "metadata": {},
   "outputs": [
    {
     "data": {
      "image/png": "[encoded data removed]",
      "text/latex": [
       "$\\displaystyle \\pi_{2} = - c_{2} w + p_{2} w^{\\frac{1}{2}}$"
      ],
      "text/plain": [
       "         1       \n",
       "         ─       \n",
       "         2       \n",
       "π₂ = p₂⋅w  - c₂⋅w"
      ]
     },
     "execution_count": 31,
     "metadata": {},
     "output_type": "execute_result"
    }
   ],
   "source": [
    "Eq(pi_2, p_2 * Y_2 - c_2 * w)"
   ]
  },
  {
   "cell_type": "code",
   "execution_count": 32,
   "metadata": {},
   "outputs": [
    {
     "data": {
      "image/png": "[encoded data removed]",
      "text/latex": [
       "$\\displaystyle \\pi_{2} = - w + 3 w^{\\frac{1}{2}}$"
      ],
      "text/plain": [
       "        1    \n",
       "        ─    \n",
       "        2    \n",
       "π₂ = 3⋅w  - w"
      ]
     },
     "execution_count": 32,
     "metadata": {},
     "output_type": "execute_result"
    }
   ],
   "source": [
    "Eq(pi_2, p2 * Y_2 - c2 * w)"
   ]
  },
  {
   "cell_type": "markdown",
   "metadata": {},
   "source": [
    "The first order condition gives"
   ]
  },
  {
   "cell_type": "code",
   "execution_count": 33,
   "metadata": {},
   "outputs": [
    {
     "data": {
      "image/png": "[encoded data removed]",
      "text/latex": [
       "$\\displaystyle \\frac{d \\pi_{2}}{d w} = 0$"
      ],
      "text/plain": [
       "d⋅π₂    \n",
       "──── = 0\n",
       "d w     "
      ]
     },
     "execution_count": 33,
     "metadata": {},
     "output_type": "execute_result"
    }
   ],
   "source": [
    "Eq(d*pi_2 / dw, 0)"
   ]
  },
  {
   "cell_type": "code",
   "execution_count": 34,
   "metadata": {},
   "outputs": [
    {
     "data": {
      "image/png": "[encoded data removed]",
      "text/latex": [
       "$\\displaystyle -1 + 3 \\frac{w^{\\frac{1}{2} - 1}}{2} = 0$"
      ],
      "text/plain": [
       "        1        \n",
       "   -1 + ─        \n",
       "        2        \n",
       "  w              \n",
       "3⋅─────── - 1 = 0\n",
       "     2           "
      ]
     },
     "execution_count": 34,
     "metadata": {},
     "output_type": "execute_result"
    }
   ],
   "source": [
    "dY2 = UnevaluatedExpr(w**((one - b) / b) / b)\n",
    "Eq(p2 * dY2 - c2, 0)"
   ]
  },
  {
   "cell_type": "code",
   "execution_count": 35,
   "metadata": {},
   "outputs": [
    {
     "data": {
      "image/png": "[encoded data removed]",
      "text/latex": [
       "$\\displaystyle 3 \\frac{w^{\\frac{1}{2} - 1}}{2} = 1$"
      ],
      "text/plain": [
       "        1    \n",
       "   -1 + ─    \n",
       "        2    \n",
       "  w          \n",
       "3⋅─────── = 1\n",
       "     2       "
      ]
     },
     "execution_count": 35,
     "metadata": {},
     "output_type": "execute_result"
    }
   ],
   "source": [
    "dY2 = UnevaluatedExpr(w**((one - b) / b) / b)\n",
    "Eq(p2 * dY2, c2)"
   ]
  },
  {
   "cell_type": "code",
   "execution_count": 36,
   "metadata": {},
   "outputs": [
    {
     "data": {
      "image/png": "[encoded data removed]",
      "text/latex": [
       "$\\displaystyle \\frac{3}{2 w^{0.5}} = 1$"
      ],
      "text/plain": [
       "   -0.5    \n",
       "3⋅w        \n",
       "─────── = 1\n",
       "   2       "
      ]
     },
     "execution_count": 36,
     "metadata": {},
     "output_type": "execute_result"
    }
   ],
   "source": [
    "dY2 = w**((1 - b) / b) / b\n",
    "Eq(p2 * dY2, c2)"
   ]
  },
  {
   "cell_type": "code",
   "execution_count": 37,
   "metadata": {},
   "outputs": [
    {
     "data": {
      "image/png": "[encoded data removed]",
      "text/latex": [
       "$\\displaystyle w^{-0.5} = 0.666666666666667$"
      ],
      "text/plain": [
       " -0.5                    \n",
       "w     = 0.666666666666667"
      ]
     },
     "execution_count": 37,
     "metadata": {},
     "output_type": "execute_result"
    }
   ],
   "source": [
    "dY2 = w**((1 - b) / b) / b\n",
    "Eq(w**((1 - b) / b) , b * c2 / p2)"
   ]
  },
  {
   "cell_type": "code",
   "execution_count": 38,
   "metadata": {},
   "outputs": [
    {
     "data": {
      "image/png": "[encoded data removed]",
      "text/latex": [
       "$\\displaystyle w = 2.25$"
      ],
      "text/plain": [
       "w = 2.25"
      ]
     },
     "execution_count": 38,
     "metadata": {},
     "output_type": "execute_result"
    }
   ],
   "source": [
    "w_star = b * c2 / p2\n",
    "w_star = w_star**(b / (1 - b))\n",
    "Eq(w, w_star)"
   ]
  },
  {
   "cell_type": "markdown",
   "metadata": {},
   "source": [
    "The profit is"
   ]
  },
  {
   "cell_type": "code",
   "execution_count": 39,
   "metadata": {},
   "outputs": [
    {
     "data": {
      "image/png": "[encoded data removed]",
      "text/latex": [
       "$\\displaystyle \\pi_{2} = - w + 3 w^{\\frac{1}{2}}$"
      ],
      "text/plain": [
       "        1    \n",
       "        ─    \n",
       "        2    \n",
       "π₂ = 3⋅w  - w"
      ]
     },
     "execution_count": 39,
     "metadata": {},
     "output_type": "execute_result"
    }
   ],
   "source": [
    "Y_2 = w**UnevaluatedExpr(one / b)\n",
    "Eq(pi_2, p2 * Y_2 - c2 * w)"
   ]
  },
  {
   "cell_type": "code",
   "execution_count": 40,
   "metadata": {},
   "outputs": [
    {
     "data": {
      "image/png": "[encoded data removed]",
      "text/latex": [
       "$\\displaystyle \\pi_{2} = -2.25 + 3 \\cdot 2.25^{\\frac{1}{2}}$"
      ],
      "text/plain": [
       "           1       \n",
       "           ─       \n",
       "           2       \n",
       "π₂ = 3⋅2.25  - 2.25"
      ]
     },
     "execution_count": 40,
     "metadata": {},
     "output_type": "execute_result"
    }
   ],
   "source": [
    "Y_2 = w_star**UnevaluatedExpr(one / b)\n",
    "Eq(pi_2, p2 * Y_2 - c2 * w_star)"
   ]
  },
  {
   "cell_type": "code",
   "execution_count": 41,
   "metadata": {},
   "outputs": [
    {
     "data": {
      "image/png": "[encoded data removed]",
      "text/latex": [
       "$\\displaystyle \\pi_{2} = 2.25$"
      ],
      "text/plain": [
       "π₂ = 2.25"
      ]
     },
     "execution_count": 41,
     "metadata": {},
     "output_type": "execute_result"
    }
   ],
   "source": [
    "Y_2 = w_star**(1 / b)\n",
    "profit2 = p2 * Y_2 - c2 * w_star\n",
    "Eq(pi_2, p2 * Y_2 - c2 * w_star)"
   ]
  },
  {
   "cell_type": "markdown",
   "metadata": {},
   "source": [
    "## Step 4: Compare"
   ]
  },
  {
   "cell_type": "markdown",
   "metadata": {},
   "source": [
    "Because of the externality, the gym has lost"
   ]
  },
  {
   "cell_type": "code",
   "execution_count": 42,
   "metadata": {},
   "outputs": [
    {
     "data": {
      "image/png": "[encoded data removed]",
      "text/latex": [
       "$\\displaystyle 0.9995409198029481$"
      ],
      "text/plain": [
       "0.9995409198029481"
      ]
     },
     "execution_count": 42,
     "metadata": {},
     "output_type": "execute_result"
    }
   ],
   "source": [
    "profit2 - profit1"
   ]
  }
 ],
 "metadata": {
  "hide_input": false,
  "kernelspec": {
   "display_name": "Python 3",
   "language": "python",
   "name": "python3"
  },
  "language_info": {
   "codemirror_mode": {
    "name": "ipython",
    "version": 3
   },
   "file_extension": ".py",
   "mimetype": "text/x-python",
   "name": "python",
   "nbconvert_exporter": "python",
   "pygments_lexer": "ipython3",
   "version": "3.8.3"
  }
 },
 "nbformat": 4,
 "nbformat_minor": 4
}
