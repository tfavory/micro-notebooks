{
 "cells": [
  {
   "cell_type": "markdown",
   "metadata": {},
   "source": [
    "# Cournot Competition"
   ]
  },
  {
   "cell_type": "code",
   "execution_count": 1,
   "metadata": {},
   "outputs": [
    {
     "data": {
      "text/html": [
       "\n",
       "            <script>\n",
       "                code_show = false;\n",
       "                function restart_run_all(){\n",
       "                    IPython.notebook.kernel.restart();\n",
       "                    setTimeout(function(){\n",
       "                        IPython.notebook.execute_all_cells();\n",
       "                    }, 10)\n",
       "                }\n",
       "            </script>\n",
       "            <button onclick=\"restart_run_all()\">Generate Question</button>\n",
       "        "
      ],
      "text/plain": [
       "<IPython.core.display.HTML object>"
      ]
     },
     "metadata": {},
     "output_type": "display_data"
    }
   ],
   "source": [
    "import random\n",
    "import sympy\n",
    "from sympy import Symbol, Eq, Add, Mul, Derivative, simplify, UnevaluatedExpr, S, srepr, Pow, sqrt\n",
    "import threading\n",
    "import ipywidgets as widgets\n",
    "from IPython.display import HTML, Javascript, display\n",
    "from IPython.display import Markdown as md\n",
    "sympy.init_printing(order='rev-lex')\n",
    "\n",
    "def initialize():\n",
    "    \"Creates a button that generates a new question\"\n",
    "    display(HTML(\n",
    "        '''\n",
    "            <script>\n",
    "                code_show = false;\n",
    "                function restart_run_all(){\n",
    "                    IPython.notebook.kernel.restart();\n",
    "                    setTimeout(function(){\n",
    "                        IPython.notebook.execute_all_cells();\n",
    "                    }, 10)\n",
    "                }\n",
    "            </script>\n",
    "            <button onclick=\"restart_run_all()\">Generate Question</button>\n",
    "        '''\n",
    "    ))\n",
    "\n",
    "\n",
    "P = Symbol('P')\n",
    "Q = Symbol('Q')\n",
    "q_1 = Symbol('q_1')\n",
    "q_2 = Symbol('q_2')\n",
    "symbol_a = Symbol('a')\n",
    "symbol_b = Symbol('b')\n",
    "MC1 = Symbol('MC_1')\n",
    "MR1 = Symbol('MR_1')\n",
    "MC2 = Symbol('MC_2')\n",
    "MR2 = Symbol('MR_2')\n",
    "initialize()"
   ]
  },
  {
   "cell_type": "code",
   "execution_count": 2,
   "metadata": {},
   "outputs": [],
   "source": [
    "b = random.randint(2, 5)\n",
    "c1 = 3 * b * random.randint(1, 65)\n",
    "c2 = 3 * b * random.randint(1, 65)\n",
    "a = (c1 + c2) * random.randint(1, 10)\n",
    "\n",
    "two_b = 2 * b\n",
    "three_b = 3 * b\n",
    "\n",
    "two_c1 = 2 * c1\n",
    "two_c2 = 2 * c2\n",
    "\n",
    "c1takesc2 = c1 - c2\n",
    "c1takesc2divb = int(c1takesc2 / b)\n",
    "\n",
    "final_q1 = int((a + c2 - 2 * c1) / 3 / b)\n",
    "final_q2 = int((a + c1 - 2 * c2) / 3 / b)"
   ]
  },
  {
   "cell_type": "code",
   "execution_count": 3,
   "metadata": {},
   "outputs": [
    {
     "data": {
      "text/markdown": [
       "## Question\n",
       "\n",
       "   Two firms compete in quantity. \n",
       "   \n",
       "   Firm 1 has a marginal cost 570; Firm 2 has a marginal cost 150.\n",
       "   \n",
       "   The market price is $P = 1440 - 5 Q$, with $Q = q_1 + q_2$.\n",
       "   \n",
       "   Find the equilibrium quantities $q_1$ and $q_2$."
      ],
      "text/plain": [
       "<IPython.core.display.Markdown object>"
      ]
     },
     "execution_count": 3,
     "metadata": {},
     "output_type": "execute_result"
    }
   ],
   "source": [
    "md(\"\"\"## Question\n",
    "\n",
    "   Two firms compete in quantity. \n",
    "   \n",
    "   Firm 1 has a marginal cost {c1}; Firm 2 has a marginal cost {c2}.\n",
    "   \n",
    "   The market price is $P = {a} - {b} Q$, with $Q = q_1 + q_2$.\n",
    "   \n",
    "   Find the equilibrium quantities $q_1$ and $q_2$.\"\"\".format(c1=c1, c2=c2, a=a, b=b))"
   ]
  },
  {
   "cell_type": "code",
   "execution_count": 4,
   "metadata": {},
   "outputs": [
    {
     "data": {
      "text/markdown": [
       "## Answer\n",
       "\n",
       "   ### Marginal revenues\n",
       "\n",
       "   Firm 1's marginal revenue is $MR_1 = 1440 - 5 q_2 - 10 q_1$.\n",
       "   \n",
       "   Firm 2's marginal revenue is $MR_2 = 1440 - 5 q_1 - 10 q_2$."
      ],
      "text/plain": [
       "<IPython.core.display.Markdown object>"
      ]
     },
     "execution_count": 4,
     "metadata": {},
     "output_type": "execute_result"
    }
   ],
   "source": [
    "md(\"\"\"## Answer\n",
    "\n",
    "   ### Marginal revenues\n",
    "\n",
    "   Firm 1's marginal revenue is $MR_1 = {a} - {b} q_2 - {two_b} q_1$.\n",
    "   \n",
    "   Firm 2's marginal revenue is $MR_2 = {a} - {b} q_1 - {two_b} q_2$.\"\"\".format(a=a, b=b, two_b=two_b))"
   ]
  },
  {
   "cell_type": "code",
   "execution_count": 5,
   "metadata": {},
   "outputs": [
    {
     "data": {
      "text/markdown": [
       "### Profit maximization\n",
       "\n",
       "   Firm 1's sets $MR1 = MC_1$.\n",
       "   \n",
       "   Firm 2's sets $MR_2 = MC_2$.\n",
       "   \n",
       "   Which gives a system of equation:   \n",
       "   \n",
       "   $1440 - 5 q_2 - 10 q_1 = 570$\n",
       "   \n",
       "   $1440 - 5 q_1 - 10 q_2 = 150$\n",
       "   "
      ],
      "text/plain": [
       "<IPython.core.display.Markdown object>"
      ]
     },
     "execution_count": 5,
     "metadata": {},
     "output_type": "execute_result"
    }
   ],
   "source": [
    "md(\"\"\"### Profit maximization\n",
    "\n",
    "   Firm 1's sets $MR1 = MC_1$.\n",
    "   \n",
    "   Firm 2's sets $MR_2 = MC_2$.\n",
    "   \n",
    "   Which gives a system of equation:   \n",
    "   \n",
    "   ${a} - {b} q_2 - {two_b} q_1 = {c1}$\n",
    "   \n",
    "   ${a} - {b} q_1 - {two_b} q_2 = {c2}$\n",
    "   \"\"\".format(c1=c1, c2=c2, a=a, b=b, two_b=two_b))"
   ]
  },
  {
   "cell_type": "code",
   "execution_count": 6,
   "metadata": {},
   "outputs": [
    {
     "data": {
      "text/markdown": [
       "\n",
       "### Solve the system of equation\n",
       "The system of equation gives\n",
       "\n",
       "   $1440 - 5 q_2 - 10 q_1 - 570 = 0$ \n",
       "   \n",
       "   $1440 - 5 q_1 - 10 q_2 - 150 = 0$\n",
       "   "
      ],
      "text/plain": [
       "<IPython.core.display.Markdown object>"
      ]
     },
     "execution_count": 6,
     "metadata": {},
     "output_type": "execute_result"
    }
   ],
   "source": [
    "md(\"\"\"\n",
    "### Solve the system of equation\n",
    "The system of equation gives\n",
    "\n",
    "   ${a} - {b} q_2 - {two_b} q_1 - {c1} = 0$ \n",
    "   \n",
    "   ${a} - {b} q_1 - {two_b} q_2 - {c2} = 0$\n",
    "   \"\"\".format(c1=c1, c2=c2, a=a, b=b, two_b=two_b))"
   ]
  },
  {
   "cell_type": "code",
   "execution_count": 7,
   "metadata": {},
   "outputs": [
    {
     "data": {
      "text/markdown": [
       "\n",
       "So\n",
       "\n",
       "   $1440 - 5 q_2 - 10 q_1 - 570 = 1440 - 5 q_1 - 10 q_2 - 150$\n",
       "   \n",
       "   $10 q_2 - 5 q_2 = 10 q_1 - 5 q_1 + 570 - 150$\n",
       "   \n",
       "   $5 q_2 = 5 q_1 + 570 - 150$\n",
       "   "
      ],
      "text/plain": [
       "<IPython.core.display.Markdown object>"
      ]
     },
     "execution_count": 7,
     "metadata": {},
     "output_type": "execute_result"
    }
   ],
   "source": [
    "md(\"\"\"\n",
    "So\n",
    "\n",
    "   ${a} - {b} q_2 - {two_b} q_1 - {c1} = {a} - {b} q_1 - {two_b} q_2 - {c2}$\n",
    "   \n",
    "   ${two_b} q_2 - {b} q_2 = {two_b} q_1 - {b} q_1 + {c1} - {c2}$\n",
    "   \n",
    "   ${b} q_2 = {b} q_1 + {c1} - {c2}$\n",
    "   \"\"\".format(c1=c1, c2=c2, a=a, b=b, two_b=two_b, c1takesc2=c1takesc2))"
   ]
  },
  {
   "cell_type": "code",
   "execution_count": 8,
   "metadata": {},
   "outputs": [],
   "source": [
    "if c1takesc2 > 0:\n",
    "    s = md(\"\"\"${b} q_2 = {b} q_1 + {c1takesc2}$\"\"\".format(b=b, c1takesc2=c1takesc2))\n",
    "else:\n",
    "    s = md(\"\"\"${b} q_2 = {b} q_1 {c1takesc2}$\"\"\".format(b=b, c1takesc2=c1takesc2))"
   ]
  },
  {
   "cell_type": "code",
   "execution_count": 9,
   "metadata": {},
   "outputs": [
    {
     "data": {
      "text/markdown": [
       "$5 q_2 = 5 q_1 + 420$"
      ],
      "text/plain": [
       "<IPython.core.display.Markdown object>"
      ]
     },
     "execution_count": 9,
     "metadata": {},
     "output_type": "execute_result"
    }
   ],
   "source": [
    "s"
   ]
  },
  {
   "cell_type": "code",
   "execution_count": 10,
   "metadata": {},
   "outputs": [],
   "source": [
    "if c1takesc2 > 0:\n",
    "    s = md(\"\"\"$q_2 = q_1 + {c1takesc2divb}$\"\"\".format(c1takesc2divb=c1takesc2divb))\n",
    "else:\n",
    "    s = md(\"\"\"$q_2 = q_1 {c1takesc2divb}$\"\"\".format(c1takesc2divb=c1takesc2divb))"
   ]
  },
  {
   "cell_type": "code",
   "execution_count": 11,
   "metadata": {},
   "outputs": [
    {
     "data": {
      "text/markdown": [
       "$q_2 = q_1 + 84$"
      ],
      "text/plain": [
       "<IPython.core.display.Markdown object>"
      ]
     },
     "execution_count": 11,
     "metadata": {},
     "output_type": "execute_result"
    }
   ],
   "source": [
    "s"
   ]
  },
  {
   "cell_type": "code",
   "execution_count": 12,
   "metadata": {},
   "outputs": [
    {
     "data": {
      "text/markdown": [
       "\n",
       "Plug that back in one of the equations (here $1440 - 5 q_2 - 10 q_1 = 570$)\n",
       "\n",
       "   $1440 - 5 q_2 - 10 q_1 = 570$\n",
       "   "
      ],
      "text/plain": [
       "<IPython.core.display.Markdown object>"
      ]
     },
     "execution_count": 12,
     "metadata": {},
     "output_type": "execute_result"
    }
   ],
   "source": [
    "md(\"\"\"\n",
    "Plug that back in one of the equations (here ${a} - {b} q_2 - {two_b} q_1 = {c1}$)\n",
    "\n",
    "   ${a} - {b} q_2 - {two_b} q_1 = {c1}$\n",
    "   \"\"\".format(c1=c1, c2=c2, a=a, b=b, two_b=two_b, two_c1=two_c1, three_b=three_b, final_q1=final_q1))"
   ]
  },
  {
   "cell_type": "code",
   "execution_count": 13,
   "metadata": {},
   "outputs": [],
   "source": [
    "if c1takesc2 > 0:\n",
    "    s = md(\"\"\"${a} - {b} (q_1 + {c1takesc2divb}) - {two_b} q_1 = {c1}$\"\"\".format(a=a, b=b, c1=c1, two_b=two_b,c1takesc2divb=c1takesc2divb))\n",
    "else:\n",
    "    s = md(\"\"\"${a} - {b} (q_1 {c1takesc2divb}) - {two_b} q_1 = {c1}$\"\"\".format(a=a, b=b, c1=c1, two_b=two_b,c1takesc2divb=c1takesc2divb))"
   ]
  },
  {
   "cell_type": "code",
   "execution_count": 14,
   "metadata": {},
   "outputs": [
    {
     "data": {
      "text/markdown": [
       "$1440 - 5 (q_1 + 84) - 10 q_1 = 570$"
      ],
      "text/plain": [
       "<IPython.core.display.Markdown object>"
      ]
     },
     "execution_count": 14,
     "metadata": {},
     "output_type": "execute_result"
    }
   ],
   "source": [
    "s"
   ]
  },
  {
   "cell_type": "code",
   "execution_count": 15,
   "metadata": {},
   "outputs": [],
   "source": [
    "if c1takesc2 > 0:\n",
    "    s = md(\"\"\"${a} - {b} q_1 {c1takesc2} - {two_b} q_1 = {c1}$\"\"\".format(a=a, b=b, c1=c1, two_b=two_b,c1takesc2=-c1takesc2))\n",
    "else:\n",
    "    s = md(\"\"\"${a} - {b} q_1 + {c1takesc2} - {two_b} q_1 = {c1}$\"\"\".format(a=a, b=b, c1=c1, two_b=two_b,c1takesc2=-c1takesc2))"
   ]
  },
  {
   "cell_type": "code",
   "execution_count": 16,
   "metadata": {},
   "outputs": [
    {
     "data": {
      "text/markdown": [
       "$1440 - 5 q_1 -420 - 10 q_1 = 570$"
      ],
      "text/plain": [
       "<IPython.core.display.Markdown object>"
      ]
     },
     "execution_count": 16,
     "metadata": {},
     "output_type": "execute_result"
    }
   ],
   "source": [
    "s"
   ]
  },
  {
   "cell_type": "code",
   "execution_count": 17,
   "metadata": {},
   "outputs": [],
   "source": [
    "if c1takesc2 > 0:\n",
    "    s = md(\"\"\"${a}{c1takesc2} - {c1} = {three_b} q_1$\"\"\".format(a=a, b=b, c1=c1, two_b=two_b,c1takesc2=-c1takesc2, three_b=three_b))\n",
    "else:\n",
    "    s = md(\"\"\"${a} + {c1takesc2} - {c1} = {three_b} q_1$\"\"\".format(a=a, b=b, c1=c1, two_b=two_b,c1takesc2=-c1takesc2, three_b=three_b))"
   ]
  },
  {
   "cell_type": "code",
   "execution_count": 18,
   "metadata": {},
   "outputs": [
    {
     "data": {
      "text/markdown": [
       "$1440-420 - 570 = 15 q_1$"
      ],
      "text/plain": [
       "<IPython.core.display.Markdown object>"
      ]
     },
     "execution_count": 18,
     "metadata": {},
     "output_type": "execute_result"
    }
   ],
   "source": [
    "s"
   ]
  },
  {
   "cell_type": "code",
   "execution_count": 19,
   "metadata": {},
   "outputs": [
    {
     "data": {
      "text/markdown": [
       "$450 = 15 q_1$"
      ],
      "text/plain": [
       "<IPython.core.display.Markdown object>"
      ]
     },
     "execution_count": 19,
     "metadata": {},
     "output_type": "execute_result"
    }
   ],
   "source": [
    "md(\"\"\"${three_q1} = {three_b} q_1$\"\"\".format(three_q1=a-c1takesc2-c1, three_b=three_b))"
   ]
  },
  {
   "cell_type": "code",
   "execution_count": 20,
   "metadata": {},
   "outputs": [
    {
     "data": {
      "text/markdown": [
       "$q_1 = 30$"
      ],
      "text/plain": [
       "<IPython.core.display.Markdown object>"
      ]
     },
     "execution_count": 20,
     "metadata": {},
     "output_type": "execute_result"
    }
   ],
   "source": [
    "md(\"\"\"$q_1 = {final_q1}$\"\"\".format(final_q1=final_q1))"
   ]
  },
  {
   "cell_type": "code",
   "execution_count": 21,
   "metadata": {},
   "outputs": [],
   "source": [
    "if c1takesc2 > 0:\n",
    "    s = md(\"\"\"$q_2 = q_1 + {c1takesc2divb}$\n",
    "    \n",
    "$q_2 = {final_q1} + {c1takesc2divb}$\n",
    "            \n",
    "$q_2 = {final_q2}$\"\"\".format(c1takesc2divb=c1takesc2divb, final_q1=final_q1, final_q2=final_q2))\n",
    "else:\n",
    "    s = md(\"\"\"$q_2 = q_1 {c1takesc2divb}$\n",
    "    \n",
    "$q_2 = {final_q1}{c1takesc2divb}$\n",
    "            \n",
    "$q_2 = {final_q2}$\"\"\".format(c1takesc2divb=c1takesc2divb, final_q1=final_q1, final_q2=final_q2))"
   ]
  },
  {
   "cell_type": "code",
   "execution_count": 22,
   "metadata": {},
   "outputs": [
    {
     "data": {
      "text/markdown": [
       "$q_2 = q_1 + 84$\n",
       "    \n",
       "$q_2 = 30 + 84$\n",
       "            \n",
       "$q_2 = 114$"
      ],
      "text/plain": [
       "<IPython.core.display.Markdown object>"
      ]
     },
     "execution_count": 22,
     "metadata": {},
     "output_type": "execute_result"
    }
   ],
   "source": [
    "s"
   ]
  },
  {
   "cell_type": "code",
   "execution_count": null,
   "metadata": {},
   "outputs": [],
   "source": []
  }
 ],
 "metadata": {
  "kernelspec": {
   "display_name": "Python 3",
   "language": "python",
   "name": "python3"
  },
  "language_info": {
   "codemirror_mode": {
    "name": "ipython",
    "version": 3
   },
   "file_extension": ".py",
   "mimetype": "text/x-python",
   "name": "python",
   "nbconvert_exporter": "python",
   "pygments_lexer": "ipython3",
   "version": "3.8.3"
  }
 },
 "nbformat": 4,
 "nbformat_minor": 4
}
