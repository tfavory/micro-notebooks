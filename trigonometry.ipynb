{
 "cells": [
  {
   "cell_type": "markdown",
   "metadata": {},
   "source": [
    "# Practice Question: Trigonometry"
   ]
  },
  {
   "cell_type": "code",
   "execution_count": 50,
   "metadata": {},
   "outputs": [
    {
     "data": {
      "text/html": [
       "\n",
       "            <script>\n",
       "                code_show = false;\n",
       "                function restart_run_all(){\n",
       "                    IPython.notebook.kernel.restart();\n",
       "                    setTimeout(function(){\n",
       "                        IPython.notebook.execute_all_cells();\n",
       "                    }, 10)\n",
       "                }\n",
       "            </script>\n",
       "            <button onclick=\"restart_run_all()\">Generate Question</button>\n",
       "        "
      ],
      "text/plain": [
       "<IPython.core.display.HTML object>"
      ]
     },
     "metadata": {},
     "output_type": "display_data"
    }
   ],
   "source": [
    "%matplotlib inline\n",
    "import random\n",
    "import numpy as np\n",
    "import math\n",
    "import ipywidgets as widgets\n",
    "from IPython.display import HTML, Javascript, display\n",
    "from IPython.display import Markdown as md\n",
    "\n",
    "import matplotlib.pyplot as plt\n",
    "from matplotlib.patches import Arc\n",
    "\n",
    "def initialize():\n",
    "    \"Creates a button that generates a new question\"\n",
    "    display(HTML(\n",
    "        '''\n",
    "            <script>\n",
    "                code_show = false;\n",
    "                function restart_run_all(){\n",
    "                    IPython.notebook.kernel.restart();\n",
    "                    setTimeout(function(){\n",
    "                        IPython.notebook.execute_all_cells();\n",
    "                    }, 10)\n",
    "                }\n",
    "            </script>\n",
    "            <button onclick=\"restart_run_all()\">Generate Question</button>\n",
    "        '''\n",
    "    ))\n",
    "\n",
    "initialize()"
   ]
  },
  {
   "cell_type": "code",
   "execution_count": 62,
   "metadata": {},
   "outputs": [],
   "source": [
    "questions = [\"distance to gate\", \"angle of laser\"]\n",
    "distance_to_gate = random.randint(1, 100)\n",
    "angle_laser = random.randint(1, 180)\n",
    "length_gate = random.randint(3, 15)\n",
    "\n",
    "answer_distance = length_gate / (2 * math.tan(angle_laser / 2 * math.pi / 180))\n",
    "answer_angle = 2 * math.atan(length_gate / (2 * distance_to_gate)) * 180 / math.pi "
   ]
  },
  {
   "cell_type": "code",
   "execution_count": 63,
   "metadata": {},
   "outputs": [],
   "source": [
    "question = random.choice(questions)\n",
    "\n",
    "if question == \"distance to gate\":\n",
    "    q = \"\"\"## Question\n",
    "   Zombies are at the gate of your school. \n",
    "   You can set up a cannon that will shoot a laser at a {angle_laser}° angle. \n",
    "   The gate is open, and it is {length_gate}m long.\n",
    "   \n",
    "   How far from the gate should you place the cannon? Be careful not to disintegrate the walls supporting the gate. Otherwise, you will not be able to close the school and that's unsafe.\"\"\".format(length_gate=length_gate, angle_laser=angle_laser, distance_to_gate=distance_to_gate)\n",
    "\n",
    "if question == \"angle of laser\":\n",
    "    q = \"\"\"## Question\n",
    "   Zombies are at the gate of your school. \n",
    "   There is a laser cannon placed {distance_to_gate}m away from the gate.\n",
    "   The gate is open, and it is {length_gate}m long.\n",
    "   \n",
    "   You can choose the angle of the laser. How wide would you set it? Be careful! That cannon disintegrates anything. Make sure you do not disintegrate the walls supporting the gate. Otherwise, you will not be able to close the school and that's unsafe.\"\"\".format(length_gate=length_gate, angle_laser=angle_laser, distance_to_gate=distance_to_gate)"
   ]
  },
  {
   "cell_type": "code",
   "execution_count": 64,
   "metadata": {},
   "outputs": [
    {
     "data": {
      "text/markdown": [
       "## Question\n",
       "   Zombies are at the gate of your school. \n",
       "   You can set up a cannon that will shoot a laser at a 37° angle. \n",
       "   The gate is open, and it is 5m long.\n",
       "   \n",
       "   How far from the gate should you place the cannon? Be careful not to disintegrate the walls supporting the gate. Otherwise, you will not be able to close the school and that's unsafe."
      ],
      "text/plain": [
       "<IPython.core.display.Markdown object>"
      ]
     },
     "execution_count": 64,
     "metadata": {},
     "output_type": "execute_result"
    }
   ],
   "source": [
    "md(q)"
   ]
  },
  {
   "cell_type": "markdown",
   "metadata": {},
   "source": [
    "You are looking for x in the figure below."
   ]
  },
  {
   "cell_type": "code",
   "execution_count": 65,
   "metadata": {},
   "outputs": [
    {
     "data": {
      "text/plain": [
       "[]"
      ]
     },
     "execution_count": 65,
     "metadata": {},
     "output_type": "execute_result"
    },
    {
     "data": {
      "image/png": "[encoded data removed]",
      "text/plain": [
       "<Figure size 432x288 with 1 Axes>"
      ]
     },
     "metadata": {},
     "output_type": "display_data"
    }
   ],
   "source": [
    "x=np.array([0,5,0,0,-5,0])\n",
    "y=np.array([0,7,7,0,7,7])\n",
    "# Figure and Axes\n",
    "fig1=plt.figure()\n",
    "ax1=fig1.add_subplot()\n",
    "# Plot Triangle 1 \n",
    "ax1.axis('square')\n",
    "plt.plot(x,y)\n",
    "# Axes Limits\n",
    "plt.xlim([-7,7])\n",
    "plt.ylim([-1,10])\n",
    "# Grid\n",
    "ax1.set_xticks([])\n",
    "ax1.set_yticks([])\n",
    "\n",
    "plt.scatter(0, 0, s=50, color='blue')\n",
    "plt.annotate(\"A\", (0, 0), xytext=(-0.1, -0.8))\n",
    "plt.scatter(5, 7, s=50, color='blue')\n",
    "plt.annotate(\"B\", (5, 7), xytext=(5.2, 7.3))\n",
    "plt.scatter(0, 7, s=50, color='blue')\n",
    "plt.annotate(\"C\", (0, 7), xytext=(-0.1, 7.3))\n",
    "plt.scatter(-5, 7, s=50, color='blue')\n",
    "plt.annotate(\"D\", (-5, 7), xytext=(-5.3, 7.3))\n",
    "\n",
    "# gate\n",
    "xpoints = np.array([-5,5])\n",
    "ypoints = np.array([8,8])\n",
    "plt.plot(xpoints, ypoints, color='orange')\n",
    "\n",
    "xpoints = np.array([-5,-5])\n",
    "ypoints = np.array([8,7.8])\n",
    "plt.plot(xpoints, ypoints, color='orange')\n",
    "\n",
    "xpoints = np.array([5,5])\n",
    "ypoints = np.array([8,7.8])\n",
    "plt.plot(xpoints, ypoints, color='orange')\n",
    "\n",
    "\n",
    "plt.annotate(\"{}m\".format(length_gate), (0, 8.5), xytext=(-0.2, 8.5))\n",
    "ax1.add_patch(Arc([0,7/10], 1, 0.7, 180, 180, 2))\n",
    "\n",
    "if question == \"distance to gate\":\n",
    "    plt.annotate(\"{}°\".format(angle_laser), (0, 1), xytext=(0,1.3))\n",
    "    plt.annotate(\"x\", (0, 3.7), xytext=(0.2, 3.7))\n",
    "    \n",
    "if question == \"angle of laser\":\n",
    "    plt.annotate(\"{}m\".format(distance_to_gate), (0, 3.7), xytext=(0.2, 3.7))\n",
    "    plt.annotate(\"x\", (0, 1), xytext=(0,1.3))\n",
    "\n",
    "plt.plot()"
   ]
  },
  {
   "cell_type": "markdown",
   "metadata": {},
   "source": [
    "## Answer"
   ]
  },
  {
   "cell_type": "code",
   "execution_count": 66,
   "metadata": {},
   "outputs": [],
   "source": [
    "if question == \"distance to gate\":\n",
    "    answer = md(\"\"\"Look at the triangle ABC. \n",
    "    \n",
    "    The angle CAB is {angle_laser} / 2 = {angle_CAB}°. \n",
    "    \n",
    "    The segment CB has a length equal to DB / 2 = {distance_to_gate} / 2 = {CB}.\n",
    "    \n",
    "    So we got that tan({angle_CAB}) = {CB} / x.\n",
    "    \n",
    "    x = {CB} / tan({angle_CAB}) = {answer}m\"\"\".format(CAB=\"CAB\", DB=\"DB\", two=2, angle_CAB=angle_laser/2, CB=distance_to_gate/2, distance_to_gate=distance_to_gate, angle_laser=angle_laser, answer=float(\"{:.2f}\".format(answer_distance))))\n",
    "if question == \"angle of laser\":\n",
    "    answer = md(\"\"\"Look at the triangle ABC. \n",
    "    \n",
    "    The segment AC has a length equal to {distance_to_gate}.\n",
    "    \n",
    "    The segment CB has a length equal to DB / 2 = {length_gate} / 2 = {CB}.\n",
    "    \n",
    "    The angle CAB satisfies the following equation: \n",
    "    \n",
    "    tan(CAB) = {CB} / {distance_to_gate}\n",
    "    CAB = arctan({CB} / {distance_to_gate})\n",
    "    \n",
    "    x = 2 arctan(CAB) = 2 arctan({CB} / {distance_to_gate}) = {answer}°\"\"\".format(CAB=\"CAB\", DB=\"DB\", two=2, angle_CAB=angle_laser/2, CB=length_gate/2, length_gate=length_gate, distance_to_gate=distance_to_gate, angle_laser=angle_laser, answer=float(\"{:.2f}\".format(answer_angle))))"
   ]
  },
  {
   "cell_type": "code",
   "execution_count": 67,
   "metadata": {},
   "outputs": [
    {
     "data": {
      "text/markdown": [
       "Look at the triangle ABC. \n",
       "    \n",
       "    The angle CAB is 37 / 2 = 18.5°. \n",
       "    \n",
       "    The segment CB has a length equal to DB / 2 = 6 / 2 = 3.0.\n",
       "    \n",
       "    So we got that tan(18.5) = 3.0 / x.\n",
       "    \n",
       "    x = 3.0 / tan(18.5) = 7.47m"
      ],
      "text/plain": [
       "<IPython.core.display.Markdown object>"
      ]
     },
     "execution_count": 67,
     "metadata": {},
     "output_type": "execute_result"
    }
   ],
   "source": [
    "answer"
   ]
  },
  {
   "cell_type": "code",
   "execution_count": null,
   "metadata": {},
   "outputs": [],
   "source": []
  },
  {
   "cell_type": "code",
   "execution_count": null,
   "metadata": {},
   "outputs": [],
   "source": []
  }
 ],
 "metadata": {
  "kernelspec": {
   "display_name": "Python 3",
   "language": "python",
   "name": "python3"
  },
  "language_info": {
   "codemirror_mode": {
    "name": "ipython",
    "version": 3
   },
   "file_extension": ".py",
   "mimetype": "text/x-python",
   "name": "python",
   "nbconvert_exporter": "python",
   "pygments_lexer": "ipython3",
   "version": "3.8.3"
  }
 },
 "nbformat": 4,
 "nbformat_minor": 4
}
